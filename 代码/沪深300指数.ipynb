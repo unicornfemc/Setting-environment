{
 "cells": [
  {
   "cell_type": "code",
   "execution_count": 4,
   "metadata": {},
   "outputs": [
    {
     "name": "stdout",
     "output_type": "stream",
     "text": [
      "login success!\n",
      "login respond error_code:0\n",
      "login respond  error_msg:success\n",
      "query_history_k_data_plus respond error_code:0\n",
      "query_history_k_data_plus respond  error_msg:success\n",
      "            date       code       open       high        low      close  \\\n",
      "0     2005-01-04  sh.000300   994.7700   994.7700   980.6600   982.7940   \n",
      "1     2005-01-05  sh.000300   981.5800   997.3200   979.8800   992.5640   \n",
      "2     2005-01-06  sh.000300   993.3300   993.7900   980.3300   983.1740   \n",
      "3     2005-01-07  sh.000300   983.0500   995.7100   979.8100   983.9580   \n",
      "4     2005-01-10  sh.000300   983.7600   993.9600   979.7900   993.8790   \n",
      "...          ...        ...        ...        ...        ...        ...   \n",
      "4204  2022-04-25  sh.000300  3933.4459  3958.2102  3814.9127  3814.9127   \n",
      "4205  2022-04-26  sh.000300  3822.4887  3871.8498  3773.8986  3784.1198   \n",
      "4206  2022-04-27  sh.000300  3758.0835  3895.7310  3757.0859  3895.5361   \n",
      "4207  2022-04-28  sh.000300  3883.4196  3943.4349  3873.5781  3921.1073   \n",
      "4208  2022-04-29  sh.000300  3939.6238  4017.4281  3898.5701  4016.2410   \n",
      "\n",
      "       preclose       volume             amount     pctChg  \n",
      "0        0.0000    741286894    4431977400.0000   0.000000  \n",
      "1      982.7940    711910898    4529208200.0000   0.994107  \n",
      "2      992.5640    628802905    3921015400.0000  -0.946036  \n",
      "3      983.1740    729869409    4737469400.0000   0.079741  \n",
      "4      983.9580    579169799    3762932900.0000   1.008277  \n",
      "...         ...          ...                ...        ...  \n",
      "4204  4013.2498  16836450200  272889272275.2000  -4.942057  \n",
      "4205  3814.9127  15757761100  259626354225.4000  -0.807172  \n",
      "4206  3784.1198  17273404600  296924102939.0000   2.944312  \n",
      "4207  3895.5361  15305658600  268502242452.9000   0.656423  \n",
      "4208  3921.1073  17945837700  321414877428.2000   2.426195  \n",
      "\n",
      "[4209 rows x 10 columns]\n",
      "logout success!\n"
     ]
    },
    {
     "data": {
      "text/plain": [
       "<baostock.data.resultset.ResultData at 0x1c6139b4760>"
      ]
     },
     "execution_count": 4,
     "metadata": {},
     "output_type": "execute_result"
    }
   ],
   "source": [
    "import baostock as bs\n",
    "import pandas as pd\n",
    "\n",
    "# 登陆系统\n",
    "lg = bs.login()\n",
    "# 显示登陆返回信息\n",
    "print('login respond error_code:'+lg.error_code)\n",
    "print('login respond  error_msg:'+lg.error_msg)\n",
    "\n",
    "# 获取指数(综合指数、规模指数、一级行业指数、二级行业指数、策略指数、成长指数、价值指数、主题指数)K线数据\n",
    "# 综合指数，例如：sh.000001 上证指数，sz.399106 深证综指 等；\n",
    "# 规模指数，例如：sh.000016 上证50，sh.000300 沪深300，sh.000905 中证500，sz.399001 深证成指等；\n",
    "# 一级行业指数，例如：sh.000037 上证医药，sz.399433 国证交运 等；\n",
    "# 二级行业指数，例如：sh.000952 300地产，sz.399951 300银行 等；\n",
    "# 策略指数，例如：sh.000050 50等权，sh.000982 500等权 等；\n",
    "# 成长指数，例如：sz.399376 小盘成长 等；\n",
    "# 价值指数，例如：sh.000029 180价值 等；\n",
    "# 主题指数，例如：sh.000015 红利指数，sh.000063 上证周期 等；\n",
    "\n",
    "#选择需要下载的指数或股票代码 \n",
    "# 详细指标参数，参见“历史行情指标参数”章节；“周月线”参数与“日线”参数不同。\n",
    "# 周月线指标：date,code,open,high,low,close,volume,amount,adjustflag,turn,pctChg\n",
    "st = \"sh.000300\"\n",
    "rs = bs.query_history_k_data_plus(st,\n",
    "    \"date,code,open,high,low,close,preclose,volume,amount,pctChg\",\n",
    "    start_date='2000-01-01', end_date='2022-05-01', frequency=\"d\")\n",
    "print('query_history_k_data_plus respond error_code:'+rs.error_code)\n",
    "print('query_history_k_data_plus respond  error_msg:'+rs.error_msg)\n",
    "\n",
    "\n",
    "\n",
    "# 打印结果集\n",
    "data_list = []\n",
    "while (rs.error_code == '0') & rs.next():\n",
    "    # 获取一条记录，将记录合并在一起\n",
    "    data_list.append(rs.get_row_data())\n",
    "result = pd.DataFrame(data_list, columns=rs.fields)\n",
    "# 结果集输出到csv文件\n",
    "result.to_csv(\"E:\\\\Alex\\\\程序\\\\Date\\\\test\\\\{nm}.csv\".format(nm = st), index=False)\n",
    "print(result)\n",
    "\n",
    "# 登出系统\n",
    "bs.logout()"
   ]
  }
 ],
 "metadata": {
  "interpreter": {
   "hash": "30c51b833423a516be37f9477220a31119555a84ae0002e616be3b0d54bad35b"
  },
  "kernelspec": {
   "display_name": "Python 3.10.4 ('stockEn')",
   "language": "python",
   "name": "python3"
  },
  "language_info": {
   "codemirror_mode": {
    "name": "ipython",
    "version": 3
   },
   "file_extension": ".py",
   "mimetype": "text/x-python",
   "name": "python",
   "nbconvert_exporter": "python",
   "pygments_lexer": "ipython3",
   "version": "3.10.4"
  },
  "orig_nbformat": 4
 },
 "nbformat": 4,
 "nbformat_minor": 2
}
