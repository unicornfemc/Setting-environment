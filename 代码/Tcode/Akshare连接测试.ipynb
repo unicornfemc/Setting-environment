{
 "cells": [
  {
   "cell_type": "markdown",
   "metadata": {},
   "source": [
    "#国内安装-Python\n",
    "pip install akshare -i http://mirrors.aliyun.com/pypi/simple/ --trusted-host=mirrors.aliyun.com  --upgrade\n",
    "#升级 AKShare\n",
    "pip install akshare --upgrade -i https://pypi.org/simple\n"
   ]
  },
  {
   "cell_type": "code",
   "execution_count": 1,
   "metadata": {},
   "outputs": [
    {
     "name": "stdout",
     "output_type": "stream",
     "text": [
      "      项目         股票       科创板         主板\n",
      "0   流通股本   40902.71    474.58   40428.13\n",
      "1    总市值  438841.79   41693.6  397148.18\n",
      "2  平均市盈率      15.14     49.26       14.2\n",
      "3   上市公司       2091       420       1671\n",
      "4   上市股票       2132       420       1712\n",
      "5   流通市值  375556.31  16543.45  359012.86\n",
      "6   报告时间   20220429  20220429   20220429\n",
      "8    总股本   46655.68   1422.02   45233.66\n"
     ]
    }
   ],
   "source": [
    "#A股总览并下载本地\n",
    "import akshare as ak\n",
    "import pandas as pd\n",
    "\n",
    "rs1=stock_sse_summary_df = ak.stock_sse_summary()\n",
    "print(rs1)\n",
    "rs1.to_csv(\"E:\\\\Alex\\\\程序\\\\Date\\\\test\\\\A股总览.csv\",encoding='GBK', index=False)"
   ]
  },
  {
   "cell_type": "code",
   "execution_count": 2,
   "metadata": {},
   "outputs": [
    {
     "name": "stdout",
     "output_type": "stream",
     "text": [
      "            date  averagePELYR  averagePETTM  middlePELYR  middlePETTM  \\\n",
      "0     2005-04-11         37.42         29.85        22.37        20.47   \n",
      "1     2005-04-12         37.04         29.74        22.35        20.50   \n",
      "2     2005-04-13         36.14         28.97        21.83        20.09   \n",
      "3     2005-04-14         37.21         29.47        22.23        20.57   \n",
      "4     2005-04-15         37.15         28.81        21.92        20.17   \n",
      "...          ...           ...           ...          ...          ...   \n",
      "4136  2022-04-24         29.75         28.90        20.18        20.45   \n",
      "4137  2022-04-25         27.81         29.18        19.06        19.57   \n",
      "4138  2022-04-26         28.14         29.27        18.60        19.05   \n",
      "4139  2022-04-27         29.15         30.21        19.28        19.57   \n",
      "4140  2022-04-28         28.70         29.86        19.27        19.23   \n",
      "\n",
      "        close  \n",
      "0      995.42  \n",
      "1      978.70  \n",
      "2     1000.90  \n",
      "3      986.98  \n",
      "4      974.08  \n",
      "...       ...  \n",
      "4136  4013.25  \n",
      "4137  3814.91  \n",
      "4138  3784.12  \n",
      "4139  3895.54  \n",
      "4140  3921.11  \n",
      "\n",
      "[4141 rows x 6 columns]\n"
     ]
    }
   ],
   "source": [
    "#沪深300市盈率并保存本地\n",
    "import pandas as pd\n",
    "import akshare as ak\n",
    "symbol=\"000300.XSHG\"\n",
    "rs2=stock_a_pe_df = ak.stock_a_pe(symbol)\n",
    "print(rs2)\n",
    "rs2.to_csv(\"E:\\\\Alex\\\\程序\\\\Date\\\\test\\\\{nm}.csv\".format(nm = symbol), encoding='utf-8',index=False)"
   ]
  }
 ],
 "metadata": {
  "interpreter": {
   "hash": "30c51b833423a516be37f9477220a31119555a84ae0002e616be3b0d54bad35b"
  },
  "kernelspec": {
   "display_name": "Python 3.10.4 ('stockEn')",
   "language": "python",
   "name": "python3"
  },
  "language_info": {
   "codemirror_mode": {
    "name": "ipython",
    "version": 3
   },
   "file_extension": ".py",
   "mimetype": "text/x-python",
   "name": "python",
   "nbconvert_exporter": "python",
   "pygments_lexer": "ipython3",
   "version": "3.10.4"
  },
  "orig_nbformat": 4
 },
 "nbformat": 4,
 "nbformat_minor": 2
}
