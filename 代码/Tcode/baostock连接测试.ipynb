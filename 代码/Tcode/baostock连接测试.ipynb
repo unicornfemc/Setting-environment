{
 "cells": [
  {
   "cell_type": "markdown",
   "metadata": {},
   "source": [
    "#测试baostock连接,st切换股票代码\n",
    "#下载保存到本地路径\"E:\\\\Alex\\\\程序\\\\Date\\\\test\\\\st.csv\""
   ]
  },
  {
   "cell_type": "code",
   "execution_count": 11,
   "metadata": {},
   "outputs": [
    {
     "name": "stdout",
     "output_type": "stream",
     "text": [
      "login success!\n",
      "login respond error_code:0\n",
      "login respond  error_msg:success\n",
      "query_history_k_data_plus respond error_code:0\n",
      "query_history_k_data_plus respond  error_msg:success\n",
      "            date       code     open     high      low    close preclose  \\\n",
      "0     2017-07-03  sh.601166  16.8400  16.9400  16.7100  16.8800  16.8600   \n",
      "1     2017-07-04  sh.601166  16.8700  16.8800  16.5500  16.7100  16.8800   \n",
      "2     2017-07-05  sh.601166  16.6600  16.9400  16.6300  16.9100  16.7100   \n",
      "3     2017-07-06  sh.601166  16.9000  17.1600  16.8800  17.1100  16.9100   \n",
      "4     2017-07-07  sh.601166  17.0300  17.1900  17.0000  17.0900  17.1100   \n",
      "...          ...        ...      ...      ...      ...      ...      ...   \n",
      "1170  2022-04-25  sh.601166  20.9100  21.0900  20.2500  20.2800  21.4200   \n",
      "1171  2022-04-26  sh.601166  20.3800  20.7400  20.2400  20.4200  20.2800   \n",
      "1172  2022-04-27  sh.601166  20.2600  20.7900  20.2200  20.5400  20.4200   \n",
      "1173  2022-04-28  sh.601166  20.5000  21.0700  20.4600  21.0500  20.5400   \n",
      "1174  2022-04-29  sh.601166  20.9500  20.9500  20.0000  20.4800  21.0500   \n",
      "\n",
      "         volume           amount adjustflag      turn tradestatus     pctChg  \\\n",
      "0      71470664  1203037504.0000          3  0.375128           1   0.118615   \n",
      "1     133014541  2220576672.0000          3  0.698153           1  -1.007110   \n",
      "2      98704742  1657937088.0000          3  0.518072           1   1.196893   \n",
      "3     142941473  2434204416.0000          3  0.750257           1   1.182737   \n",
      "4      76730697  1310727648.0000          3  0.402736           1  -0.116893   \n",
      "...         ...              ...        ...       ...         ...        ...   \n",
      "1170  149298843  3086710293.9300          3  0.718700           1  -5.322100   \n",
      "1171   91038533  1866639024.1900          3  0.438200           1   0.690300   \n",
      "1172   87774885  1803283308.1300          3  0.422500           1   0.587700   \n",
      "1173  105401255  2198281364.9600          3  0.507400           1   2.483000   \n",
      "1174  182799388  3712928952.6000          3  0.879900           1  -2.707800   \n",
      "\n",
      "     isST  \n",
      "0       0  \n",
      "1       0  \n",
      "2       0  \n",
      "3       0  \n",
      "4       0  \n",
      "...   ...  \n",
      "1170    0  \n",
      "1171    0  \n",
      "1172    0  \n",
      "1173    0  \n",
      "1174    0  \n",
      "\n",
      "[1175 rows x 14 columns]\n",
      "logout success!\n"
     ]
    },
    {
     "data": {
      "text/plain": [
       "<baostock.data.resultset.ResultData at 0x1764fb3fe20>"
      ]
     },
     "execution_count": 11,
     "metadata": {},
     "output_type": "execute_result"
    }
   ],
   "source": [
    "import baostock as bs\n",
    "import pandas as pd\n",
    "\n",
    "#### 登陆系统 ####\n",
    "lg = bs.login()\n",
    "# 显示登陆返回信息\n",
    "print('login respond error_code:'+lg.error_code)\n",
    "print('login respond  error_msg:'+lg.error_msg)\n",
    "\n",
    "#### 获取沪深A股历史K线数据 ####\n",
    "# 详细指标参数，参见“历史行情指标参数”章节；“分钟线”参数与“日线”参数不同。“分钟线”不包含指数。\n",
    "# 分钟线指标：date,time,code,open,high,low,close,volume,amount,adjustflag\n",
    "# 周月线指标：date,code,open,high,low,close,volume,amount,adjustflag,turn,pctChg\n",
    "st = \"sh.601166\"\n",
    "rs = bs.query_history_k_data_plus(st,\n",
    "    \"date,code,open,high,low,close,preclose,volume,amount,adjustflag,turn,tradestatus,pctChg,isST\",\n",
    "    start_date='2017-07-01', end_date='2022-05-01',\n",
    "    frequency=\"d\", adjustflag=\"3\")\n",
    "print('query_history_k_data_plus respond error_code:'+rs.error_code)\n",
    "print('query_history_k_data_plus respond  error_msg:'+rs.error_msg)\n",
    "\n",
    "#### 打印结果集 ####\n",
    "data_list = []\n",
    "while (rs.error_code == '0') & rs.next():\n",
    "    # 获取一条记录，将记录合并在一起\n",
    "    data_list.append(rs.get_row_data())\n",
    "result = pd.DataFrame(data_list, columns=rs.fields)\n",
    "\n",
    "#### 结果集输出到csv文件 ####   \n",
    "result.to_csv(\"E:\\\\Alex\\\\程序\\\\Date\\\\test\\\\{nm}.csv\".format(nm = st), index=False)\n",
    "print(result)\n",
    "\n",
    "#### 登出系统 ####\n",
    "bs.logout()"
   ]
  }
 ],
 "metadata": {
  "interpreter": {
   "hash": "30c51b833423a516be37f9477220a31119555a84ae0002e616be3b0d54bad35b"
  },
  "kernelspec": {
   "display_name": "Python 3.10.4 ('stockEn')",
   "language": "python",
   "name": "python3"
  },
  "language_info": {
   "codemirror_mode": {
    "name": "ipython",
    "version": 3
   },
   "file_extension": ".py",
   "mimetype": "text/x-python",
   "name": "python",
   "nbconvert_exporter": "python",
   "pygments_lexer": "ipython3",
   "version": "3.10.4"
  },
  "orig_nbformat": 4
 },
 "nbformat": 4,
 "nbformat_minor": 2
}
