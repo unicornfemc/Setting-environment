{
 "cells": [
  {
   "cell_type": "markdown",
   "metadata": {},
   "source": [
    "#测试tushare版本号"
   ]
  },
  {
   "cell_type": "code",
   "execution_count": 1,
   "metadata": {},
   "outputs": [
    {
     "name": "stdout",
     "output_type": "stream",
     "text": [
      "1.2.85\n"
     ]
    }
   ],
   "source": [
    "import tushare\n",
    "print(tushare.__version__)"
   ]
  }
 ],
 "metadata": {
  "interpreter": {
   "hash": "30c51b833423a516be37f9477220a31119555a84ae0002e616be3b0d54bad35b"
  },
  "kernelspec": {
   "display_name": "Python 3.10.4 ('stockEn')",
   "language": "python",
   "name": "python3"
  },
  "language_info": {
   "codemirror_mode": {
    "name": "ipython",
    "version": 3
   },
   "file_extension": ".py",
   "mimetype": "text/x-python",
   "name": "python",
   "nbconvert_exporter": "python",
   "pygments_lexer": "ipython3",
   "version": "3.10.4"
  },
  "orig_nbformat": 4
 },
 "nbformat": 4,
 "nbformat_minor": 2
}
