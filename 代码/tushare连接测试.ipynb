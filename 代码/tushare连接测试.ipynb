{
 "cells": [
  {
   "cell_type": "markdown",
   "metadata": {},
   "source": [
    "#测试tushare版本号"
   ]
  },
  {
   "cell_type": "code",
   "execution_count": 2,
   "metadata": {},
   "outputs": [
    {
     "name": "stdout",
     "output_type": "stream",
     "text": [
      "1.2.85\n"
     ]
    }
   ],
   "source": [
    "import tushare as ts\n",
    "print(ts.__version__)"
   ]
  },
  {
   "cell_type": "code",
   "execution_count": 6,
   "metadata": {},
   "outputs": [
    {
     "ename": "Exception",
     "evalue": "抱歉，您没有访问该接口的权限，权限的具体详情访问：https://tushare.pro/document/1?doc_id=108。",
     "output_type": "error",
     "traceback": [
      "\u001b[1;31m---------------------------------------------------------------------------\u001b[0m",
      "\u001b[1;31mException\u001b[0m                                 Traceback (most recent call last)",
      "\u001b[1;32me:\\Alex\\程序\\Code\\Setting-environment\\代码\\tushare连接测试.ipynb Cell 3'\u001b[0m in \u001b[0;36m<cell line: 6>\u001b[1;34m()\u001b[0m\n\u001b[0;32m      <a href='vscode-notebook-cell:/e%3A/Alex/%E7%A8%8B%E5%BA%8F/Code/Setting-environment/%E4%BB%A3%E7%A0%81/tushare%E8%BF%9E%E6%8E%A5%E6%B5%8B%E8%AF%95.ipynb#ch0000003?line=2'>3</a>\u001b[0m pro \u001b[39m=\u001b[39m ts\u001b[39m.\u001b[39mpro_api(\u001b[39m'\u001b[39m\u001b[39mf574c8e61ead52fbd3ddda3f0e08357ac15a7c57607e0e9fcab6afbb\u001b[39m\u001b[39m'\u001b[39m)\n\u001b[0;32m      <a href='vscode-notebook-cell:/e%3A/Alex/%E7%A8%8B%E5%BA%8F/Code/Setting-environment/%E4%BB%A3%E7%A0%81/tushare%E8%BF%9E%E6%8E%A5%E6%B5%8B%E8%AF%95.ipynb#ch0000003?line=4'>5</a>\u001b[0m \u001b[39m#获取富时中国50指数\u001b[39;00m\n\u001b[1;32m----> <a href='vscode-notebook-cell:/e%3A/Alex/%E7%A8%8B%E5%BA%8F/Code/Setting-environment/%E4%BB%A3%E7%A0%81/tushare%E8%BF%9E%E6%8E%A5%E6%B5%8B%E8%AF%95.ipynb#ch0000003?line=5'>6</a>\u001b[0m df \u001b[39m=\u001b[39m pro\u001b[39m.\u001b[39;49mindex_global(ts_code\u001b[39m=\u001b[39;49m\u001b[39m'\u001b[39;49m\u001b[39mXIN9\u001b[39;49m\u001b[39m'\u001b[39;49m, start_date\u001b[39m=\u001b[39;49m\u001b[39m'\u001b[39;49m\u001b[39m20200201\u001b[39;49m\u001b[39m'\u001b[39;49m, end_date\u001b[39m=\u001b[39;49m\u001b[39m'\u001b[39;49m\u001b[39m20200220\u001b[39;49m\u001b[39m'\u001b[39;49m)\n",
      "File \u001b[1;32mD:\\anaconda3\\envs\\stockEn\\lib\\site-packages\\tushare\\pro\\client.py:44\u001b[0m, in \u001b[0;36mDataApi.query\u001b[1;34m(self, api_name, fields, **kwargs)\u001b[0m\n\u001b[0;32m     <a href='file:///d%3A/anaconda3/envs/stockEn/lib/site-packages/tushare/pro/client.py?line=41'>42</a>\u001b[0m result \u001b[39m=\u001b[39m json\u001b[39m.\u001b[39mloads(res\u001b[39m.\u001b[39mtext)\n\u001b[0;32m     <a href='file:///d%3A/anaconda3/envs/stockEn/lib/site-packages/tushare/pro/client.py?line=42'>43</a>\u001b[0m \u001b[39mif\u001b[39;00m result[\u001b[39m'\u001b[39m\u001b[39mcode\u001b[39m\u001b[39m'\u001b[39m] \u001b[39m!=\u001b[39m \u001b[39m0\u001b[39m:\n\u001b[1;32m---> <a href='file:///d%3A/anaconda3/envs/stockEn/lib/site-packages/tushare/pro/client.py?line=43'>44</a>\u001b[0m     \u001b[39mraise\u001b[39;00m \u001b[39mException\u001b[39;00m(result[\u001b[39m'\u001b[39m\u001b[39mmsg\u001b[39m\u001b[39m'\u001b[39m])\n\u001b[0;32m     <a href='file:///d%3A/anaconda3/envs/stockEn/lib/site-packages/tushare/pro/client.py?line=44'>45</a>\u001b[0m data \u001b[39m=\u001b[39m result[\u001b[39m'\u001b[39m\u001b[39mdata\u001b[39m\u001b[39m'\u001b[39m]\n\u001b[0;32m     <a href='file:///d%3A/anaconda3/envs/stockEn/lib/site-packages/tushare/pro/client.py?line=45'>46</a>\u001b[0m columns \u001b[39m=\u001b[39m data[\u001b[39m'\u001b[39m\u001b[39mfields\u001b[39m\u001b[39m'\u001b[39m]\n",
      "\u001b[1;31mException\u001b[0m: 抱歉，您没有访问该接口的权限，权限的具体详情访问：https://tushare.pro/document/1?doc_id=108。"
     ]
    }
   ],
   "source": [
    "import tushare as ts\n",
    "\n",
    "pro = ts.pro_api('f574c8e61ead52fbd3ddda3f0e08357ac15a7c57607e0e9fcab6afbb')\n",
    "\n",
    "#获取富时中国50指数\n",
    "df = pro.index_global(ts_code='XIN9', start_date='20200201', end_date='20200220')"
   ]
  }
 ],
 "metadata": {
  "interpreter": {
   "hash": "30c51b833423a516be37f9477220a31119555a84ae0002e616be3b0d54bad35b"
  },
  "kernelspec": {
   "display_name": "Python 3.10.4 ('stockEn')",
   "language": "python",
   "name": "python3"
  },
  "language_info": {
   "codemirror_mode": {
    "name": "ipython",
    "version": 3
   },
   "file_extension": ".py",
   "mimetype": "text/x-python",
   "name": "python",
   "nbconvert_exporter": "python",
   "pygments_lexer": "ipython3",
   "version": "3.10.4"
  },
  "orig_nbformat": 4
 },
 "nbformat": 4,
 "nbformat_minor": 2
}
