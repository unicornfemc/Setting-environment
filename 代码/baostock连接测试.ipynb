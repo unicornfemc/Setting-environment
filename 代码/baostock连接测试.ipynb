{
 "cells": [
  {
   "cell_type": "markdown",
   "metadata": {},
   "source": [
    "#测试baostock连接,st切换股票代码\n",
    "#下载保存到本地路径\"E:\\\\Alex\\\\程序\\\\Date\\\\test\\\\st.csv\""
   ]
  },
  {
   "cell_type": "code",
   "execution_count": 10,
   "metadata": {},
   "outputs": [
    {
     "name": "stdout",
     "output_type": "stream",
     "text": [
      "login success!\n",
      "login respond error_code:0\n",
      "login respond  error_msg:success\n",
      "query_history_k_data_plus respond error_code:0\n",
      "query_history_k_data_plus respond  error_msg:success\n"
     ]
    },
    {
     "ename": "KeyError",
     "evalue": "'st'",
     "output_type": "error",
     "traceback": [
      "\u001b[1;31m---------------------------------------------------------------------------\u001b[0m",
      "\u001b[1;31mKeyError\u001b[0m                                  Traceback (most recent call last)",
      "\u001b[1;32me:\\Alex\\程序\\Code\\Setting-environment\\代码\\baostock连接测试.ipynb Cell 2'\u001b[0m in \u001b[0;36m<cell line: 30>\u001b[1;34m()\u001b[0m\n\u001b[0;32m     <a href='vscode-notebook-cell:/e%3A/Alex/%E7%A8%8B%E5%BA%8F/Code/Setting-environment/%E4%BB%A3%E7%A0%81/baostock%E8%BF%9E%E6%8E%A5%E6%B5%8B%E8%AF%95.ipynb#ch0000000?line=26'>27</a>\u001b[0m result \u001b[39m=\u001b[39m pd\u001b[39m.\u001b[39mDataFrame(data_list, columns\u001b[39m=\u001b[39mrs\u001b[39m.\u001b[39mfields)\n\u001b[0;32m     <a href='vscode-notebook-cell:/e%3A/Alex/%E7%A8%8B%E5%BA%8F/Code/Setting-environment/%E4%BB%A3%E7%A0%81/baostock%E8%BF%9E%E6%8E%A5%E6%B5%8B%E8%AF%95.ipynb#ch0000000?line=28'>29</a>\u001b[0m \u001b[39m#### 结果集输出到csv文件 ####   \u001b[39;00m\n\u001b[1;32m---> <a href='vscode-notebook-cell:/e%3A/Alex/%E7%A8%8B%E5%BA%8F/Code/Setting-environment/%E4%BB%A3%E7%A0%81/baostock%E8%BF%9E%E6%8E%A5%E6%B5%8B%E8%AF%95.ipynb#ch0000000?line=29'>30</a>\u001b[0m result\u001b[39m.\u001b[39mto_csv(\u001b[39m\"\u001b[39;49m\u001b[39mE:\u001b[39;49m\u001b[39m\\\\\u001b[39;49;00m\u001b[39mAlex\u001b[39;49m\u001b[39m\\\\\u001b[39;49;00m\u001b[39m程序\u001b[39;49m\u001b[39m\\\\\u001b[39;49;00m\u001b[39mDate\u001b[39;49m\u001b[39m\\\\\u001b[39;49;00m\u001b[39mtest\u001b[39;49m\u001b[39m\\\\\u001b[39;49;00m\u001b[39m{st}\u001b[39;49;00m\u001b[39m.csv\u001b[39;49m\u001b[39m\"\u001b[39;49m\u001b[39m.\u001b[39;49mformat(st), index\u001b[39m=\u001b[39m\u001b[39mFalse\u001b[39;00m)\n\u001b[0;32m     <a href='vscode-notebook-cell:/e%3A/Alex/%E7%A8%8B%E5%BA%8F/Code/Setting-environment/%E4%BB%A3%E7%A0%81/baostock%E8%BF%9E%E6%8E%A5%E6%B5%8B%E8%AF%95.ipynb#ch0000000?line=30'>31</a>\u001b[0m \u001b[39mprint\u001b[39m(result)\n\u001b[0;32m     <a href='vscode-notebook-cell:/e%3A/Alex/%E7%A8%8B%E5%BA%8F/Code/Setting-environment/%E4%BB%A3%E7%A0%81/baostock%E8%BF%9E%E6%8E%A5%E6%B5%8B%E8%AF%95.ipynb#ch0000000?line=32'>33</a>\u001b[0m \u001b[39m#### 登出系统 ####\u001b[39;00m\n",
      "\u001b[1;31mKeyError\u001b[0m: 'st'"
     ]
    }
   ],
   "source": [
    "import baostock as bs\n",
    "import pandas as pd\n",
    "\n",
    "#### 登陆系统 ####\n",
    "lg = bs.login()\n",
    "# 显示登陆返回信息\n",
    "print('login respond error_code:'+lg.error_code)\n",
    "print('login respond  error_msg:'+lg.error_msg)\n",
    "\n",
    "#### 获取沪深A股历史K线数据 ####\n",
    "# 详细指标参数，参见“历史行情指标参数”章节；“分钟线”参数与“日线”参数不同。“分钟线”不包含指数。\n",
    "# 分钟线指标：date,time,code,open,high,low,close,volume,amount,adjustflag\n",
    "# 周月线指标：date,code,open,high,low,close,volume,amount,adjustflag,turn,pctChg\n",
    "st = \"sh.601166\"\n",
    "rs = bs.query_history_k_data_plus(st,\n",
    "    \"date,code,open,high,low,close,preclose,volume,amount,adjustflag,turn,tradestatus,pctChg,isST\",\n",
    "    start_date='2017-07-01', end_date='2022-05-01',\n",
    "    frequency=\"d\", adjustflag=\"3\")\n",
    "print('query_history_k_data_plus respond error_code:'+rs.error_code)\n",
    "print('query_history_k_data_plus respond  error_msg:'+rs.error_msg)\n",
    "\n",
    "#### 打印结果集 ####\n",
    "data_list = []\n",
    "while (rs.error_code == '0') & rs.next():\n",
    "    # 获取一条记录，将记录合并在一起\n",
    "    data_list.append(rs.get_row_data())\n",
    "result = pd.DataFrame(data_list, columns=rs.fields)\n",
    "\n",
    "#### 结果集输出到csv文件 ####   \n",
    "result.to_csv(\"E:\\\\Alex\\\\程序\\\\Date\\\\test\\\\{nm}.csv\".format(nm = st), index=False)\n",
    "print(result)\n",
    "\n",
    "#### 登出系统 ####\n",
    "bs.logout()"
   ]
  }
 ],
 "metadata": {
  "interpreter": {
   "hash": "30c51b833423a516be37f9477220a31119555a84ae0002e616be3b0d54bad35b"
  },
  "kernelspec": {
   "display_name": "Python 3.10.4 ('stockEn')",
   "language": "python",
   "name": "python3"
  },
  "language_info": {
   "codemirror_mode": {
    "name": "ipython",
    "version": 3
   },
   "file_extension": ".py",
   "mimetype": "text/x-python",
   "name": "python",
   "nbconvert_exporter": "python",
   "pygments_lexer": "ipython3",
   "version": "3.10.4"
  },
  "orig_nbformat": 4
 },
 "nbformat": 4,
 "nbformat_minor": 2
}
