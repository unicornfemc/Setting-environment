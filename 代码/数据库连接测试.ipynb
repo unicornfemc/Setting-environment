{
 "cells": [
  {
   "cell_type": "markdown",
   "metadata": {},
   "source": [
    "#连接威联通Mariadb\n",
    "##Python安装 pip3 intstall mariadb\n",
    "##威联通phpMyAdmin添加新用户 全局权限 host=威联通IP user password datebase与进入威联通phpMyAdmin一致\n"
   ]
  },
  {
   "cell_type": "code",
   "execution_count": 1,
   "metadata": {},
   "outputs": [
    {
     "name": "stdout",
     "output_type": "stream",
     "text": [
      "(None, 'code', 'code_name')\n",
      "(datetime.date(2009, 12, 28), 'sh.600000', '??????')\n",
      "(datetime.date(2009, 12, 28), 'sh.600005', '??????\\r')\n",
      "(datetime.date(2009, 12, 28), 'sh.600009', '???????')\n",
      "(datetime.date(2009, 12, 28), 'sh.600015', '???????')\n",
      "(datetime.date(2009, 12, 28), 'sh.600016', '???????')\n",
      "(datetime.date(2009, 12, 28), 'sh.600018', '?????')\n",
      "(datetime.date(2009, 12, 28), 'sh.600019', '??????\\r')\n",
      "(datetime.date(2009, 12, 28), 'sh.600028', '?й????')\n",
      "(datetime.date(2009, 12, 28), 'sh.600029', '???????\\r')\n",
      "(datetime.date(2009, 12, 28), 'sh.600030', '??????')\n",
      "(datetime.date(2009, 12, 28), 'sh.600036', '???????')\n",
      "(datetime.date(2009, 12, 28), 'sh.600048', '???????')\n",
      "(datetime.date(2009, 12, 28), 'sh.600050', '?й????')\n",
      "(datetime.date(2009, 12, 28), 'sh.600104', '???????')\n",
      "(datetime.date(2009, 12, 28), 'sh.600177', '?????')\n",
      "(datetime.date(2009, 12, 28), 'sh.600320', '???????')\n",
      "(datetime.date(2009, 12, 28), 'sh.600362', '??????')\n",
      "(datetime.date(2009, 12, 28), 'sh.600519', '????é?')\n",
      "(datetime.date(2009, 12, 28), 'sh.600550', '????????')\n",
      "(datetime.date(2009, 12, 28), 'sh.600598', '??????\\r')\n",
      "(datetime.date(2009, 12, 28), 'sh.600642', '??????\\r')\n"
     ]
    }
   ],
   "source": [
    "#连接威联通Mariadb\n",
    "##Python安装 pip3 intstall mariadb\n",
    "##威联通phpMyAdmin添加新用户 全局权限 host=威联通IP user password datebase与进入威联通phpMyAdmin一致\n",
    "\n",
    "#导入需要的库\n",
    "import mariadb\n",
    "import pandas as pd\n",
    "#建立数据库连接\n",
    "conn = mariadb.connect(host='192.168.31.167', user='root2',\n",
    "                       password=\"Beyond09\", database='test')\n",
    "#建立游标\n",
    "cur = conn.cursor()\n",
    "#输入SQL命令\n",
    "sql = \"select * from qwe\"\n",
    "#执行SQL\n",
    "cur.execute(sql)\n",
    "#遍历数据表并打印\n",
    "for r in cur:\n",
    "    print(r)\n",
    "#关闭数据库\n",
    "cur.close()\n",
    "#关闭数据库连接\n",
    "conn.close()\n"
   ]
  }
 ],
 "metadata": {
  "interpreter": {
   "hash": "30c51b833423a516be37f9477220a31119555a84ae0002e616be3b0d54bad35b"
  },
  "kernelspec": {
   "display_name": "Python 3.10.4 ('stockEn')",
   "language": "python",
   "name": "python3"
  },
  "language_info": {
   "codemirror_mode": {
    "name": "ipython",
    "version": 3
   },
   "file_extension": ".py",
   "mimetype": "text/x-python",
   "name": "python",
   "nbconvert_exporter": "python",
   "pygments_lexer": "ipython3",
   "version": "3.10.4"
  },
  "orig_nbformat": 4
 },
 "nbformat": 4,
 "nbformat_minor": 2
}
