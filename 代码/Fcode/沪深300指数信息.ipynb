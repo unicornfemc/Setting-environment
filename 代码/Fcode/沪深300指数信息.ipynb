{
 "cells": [
  {
   "cell_type": "code",
   "execution_count": 14,
   "metadata": {},
   "outputs": [
    {
     "name": "stdout",
     "output_type": "stream",
     "text": [
      "login success!\n",
      "login respond error_code:0\n",
      "login respond  error_msg:success\n"
     ]
    }
   ],
   "source": [
    "import baostock as bs\n",
    "import pandas as pd\n",
    "\n",
    "#### 登陆系统 ####\n",
    "lg = bs.login()\n",
    "# 显示登陆返回信息\n",
    "print('login respond error_code:'+lg.error_code)\n",
    "print('login respond  error_msg:'+lg.error_msg)\n",
    "\n",
    "#### 获取沪深A股估值指标(日频)数据 ####\n",
    "# peTTM    滚动市盈率\n",
    "# psTTM    滚动市销率\n",
    "# pcfNcfTTM    滚动市现率\n",
    "# pbMRQ    市净率\n",
    "st = \"sh.000300\"\n",
    "rs1 = bs.query_history_k_data_plus(st,\n",
    "    \"date,code,close,peTTM,pbMRQ,psTTM,pcfNcfTTM\",\n",
    "    start_date='2000-01-01', end_date='2022-05-01', \n",
    "    frequency=\"d\", adjustflag=\"3\")\n",
    "\n",
    "data_list1 = []\n",
    "while (rs1.error_code == '0') & rs1.next():\n",
    "    # 获取一条记录，将记录合并在一起\n",
    "    data_list1.append(rs1.get_row_data())\n",
    "result1 = pd.DataFrame(data_list1, columns=rs1.fields)\n",
    "\n",
    "rs2 = bs.query_history_k_data_plus(st,\n",
    "    \"date,code,open,high,low,close,preclose,volume,amount,adjustflag,turn,tradestatus,pctChg,isST\",\n",
    "    start_date='2000-07-01', end_date='2022-05-01',\n",
    "    frequency=\"d\", adjustflag=\"3\")\n",
    "\n",
    "data_list2 = []\n",
    "while (rs2.error_code == '0') & rs2.next():\n",
    "    # 获取一条记录，将记录合并在一起\n",
    "    data_list2.append(rs2.get_row_data())\n",
    "result2 = pd.DataFrame(data_list2, columns=rs2.fields)\n"
   ]
  },
  {
   "cell_type": "code",
   "execution_count": 15,
   "metadata": {},
   "outputs": [],
   "source": [
    "hs = pd.concat([result1,result2],axis=1,join='inner')"
   ]
  },
  {
   "cell_type": "code",
   "execution_count": 16,
   "metadata": {},
   "outputs": [
    {
     "name": "stdout",
     "output_type": "stream",
     "text": [
      "            date       code      close     peTTM     pbMRQ     psTTM  \\\n",
      "0     2005-01-04  sh.000300   982.7940  0.000000  0.000000  0.000000   \n",
      "1     2005-01-05  sh.000300   992.5640  0.000000  0.000000  0.000000   \n",
      "2     2005-01-06  sh.000300   983.1740  0.000000  0.000000  0.000000   \n",
      "3     2005-01-07  sh.000300   983.9580  0.000000  0.000000  0.000000   \n",
      "4     2005-01-10  sh.000300   993.8790  0.000000  0.000000  0.000000   \n",
      "...          ...        ...        ...       ...       ...       ...   \n",
      "4204  2022-04-25  sh.000300  3814.9127  0.000000  0.000000  0.000000   \n",
      "4205  2022-04-26  sh.000300  3784.1198  0.000000  0.000000  0.000000   \n",
      "4206  2022-04-27  sh.000300  3895.5361  0.000000  0.000000  0.000000   \n",
      "4207  2022-04-28  sh.000300  3921.1073  0.000000  0.000000  0.000000   \n",
      "4208  2022-04-29  sh.000300  4016.2410  0.000000  0.000000  0.000000   \n",
      "\n",
      "     pcfNcfTTM        date       code       open  ...        low      close  \\\n",
      "0     0.000000  2005-01-04  sh.000300   994.7700  ...   980.6600   982.7940   \n",
      "1     0.000000  2005-01-05  sh.000300   981.5800  ...   979.8800   992.5640   \n",
      "2     0.000000  2005-01-06  sh.000300   993.3300  ...   980.3300   983.1740   \n",
      "3     0.000000  2005-01-07  sh.000300   983.0500  ...   979.8100   983.9580   \n",
      "4     0.000000  2005-01-10  sh.000300   983.7600  ...   979.7900   993.8790   \n",
      "...        ...         ...        ...        ...  ...        ...        ...   \n",
      "4204  0.000000  2022-04-25  sh.000300  3933.4459  ...  3814.9127  3814.9127   \n",
      "4205  0.000000  2022-04-26  sh.000300  3822.4887  ...  3773.8986  3784.1198   \n",
      "4206  0.000000  2022-04-27  sh.000300  3758.0835  ...  3757.0859  3895.5361   \n",
      "4207  0.000000  2022-04-28  sh.000300  3883.4196  ...  3873.5781  3921.1073   \n",
      "4208  0.000000  2022-04-29  sh.000300  3939.6238  ...  3898.5701  4016.2410   \n",
      "\n",
      "       preclose       volume             amount adjustflag      turn  \\\n",
      "0        0.0000    741286894    4431977400.0000          3  0.000000   \n",
      "1      982.7940    711910898    4529208200.0000          3  0.000000   \n",
      "2      992.5640    628802905    3921015400.0000          3  0.000000   \n",
      "3      983.1740    729869409    4737469400.0000          3  0.000000   \n",
      "4      983.9580    579169799    3762932900.0000          3  0.000000   \n",
      "...         ...          ...                ...        ...       ...   \n",
      "4204  4013.2498  16836450200  272889272275.2000          3  0.600550   \n",
      "4205  3814.9127  15757761100  259626354225.4000          3  0.562076   \n",
      "4206  3784.1198  17273404600  296924102939.0000          3  0.616135   \n",
      "4207  3895.5361  15305658600  268502242452.9000          3  0.545947   \n",
      "4208  3921.1073  17945837700  321414877428.2000          3  0.639684   \n",
      "\n",
      "     tradestatus     pctChg isST  \n",
      "0              1   0.000000    0  \n",
      "1              1   0.994107    0  \n",
      "2              1  -0.946036    0  \n",
      "3              1   0.079741    0  \n",
      "4              1   1.008277    0  \n",
      "...          ...        ...  ...  \n",
      "4204           1  -4.942057    0  \n",
      "4205           1  -0.807172    0  \n",
      "4206           1   2.944312    0  \n",
      "4207           1   0.656423    0  \n",
      "4208           1   2.426195    0  \n",
      "\n",
      "[4209 rows x 21 columns]\n"
     ]
    }
   ],
   "source": [
    "hs.to_csv(\"E:\\\\Alex\\\\程序\\\\Date\\\\test\\\\{nm}.csv\".format(nm = st), index=False)\n",
    "print(hs)"
   ]
  }
 ],
 "metadata": {
  "interpreter": {
   "hash": "30c51b833423a516be37f9477220a31119555a84ae0002e616be3b0d54bad35b"
  },
  "kernelspec": {
   "display_name": "Python 3.10.4 ('stockEn')",
   "language": "python",
   "name": "python3"
  },
  "language_info": {
   "codemirror_mode": {
    "name": "ipython",
    "version": 3
   },
   "file_extension": ".py",
   "mimetype": "text/x-python",
   "name": "python",
   "nbconvert_exporter": "python",
   "pygments_lexer": "ipython3",
   "version": "3.10.4"
  },
  "orig_nbformat": 4
 },
 "nbformat": 4,
 "nbformat_minor": 2
}
