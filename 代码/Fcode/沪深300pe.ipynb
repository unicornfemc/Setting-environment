{
 "cells": [
  {
   "cell_type": "markdown",
   "metadata": {},
   "source": [
    "栏目\t参数\n",
    "上证A股市盈率\tsh\n",
    "深圳A股市盈率\tsz\n",
    "中小板市盈率\tzx\n",
    "创业板市盈率\tcy\n",
    "科创板市盈率\tkc\n",
    "全部A股市盈率-平均数-中位数\tall\n",
    "沪深300市盈率\t000300.XSHG\n",
    "上证50市盈率\t000016.XSHG\n",
    "上证180市盈率\t000010.XSHG\n",
    "上证380市盈率\t000009.XSHG\n",
    "中证流通市盈率\t000902.XSHG\n",
    "中证100市盈率\t000903.XSHG\n",
    "中证500市盈率\t000905.XSHG\n",
    "中证800市盈率\t000906.XSHG\n",
    "中证1000市盈率\t000852.XSHG"
   ]
  },
  {
   "cell_type": "code",
   "execution_count": null,
   "metadata": {},
   "outputs": [],
   "source": [
    "#沪深300指数市盈率并保存本地\n",
    "import pandas as pd\n",
    "import akshare as ak\n",
    "symbol=\"000300.XSHG\"\n",
    "rs2=stock_a_pe_df = ak.stock_a_pe(symbol)\n",
    "print(rs2)\n",
    "rs2.to_csv(\"E:\\\\Alex\\\\程序\\\\Date\\\\test\\\\{nm}.csv\".format(nm = symbol), encoding='utf-8',index=False)"
   ]
  },
  {
   "cell_type": "markdown",
   "metadata": {},
   "source": [
    "A 股市盈率和市净率\n",
    "接口: stock_a_pe_and_pb\n",
    "\n",
    "目标地址: https://legulegu.com/stockdata/hs300-ttm-lyr https://legulegu.com/stockdata/hs300-pb\n",
    "\n",
    "描述: 乐咕乐股-指定市场的A股的市盈率和市净率，包括等权和加权。目标的两个网页分别展示市盈率和市净率，但实际上是来自同一个API的数据\n",
    "\n",
    "限量: 单次获取指定 market 的所有数据\n",
    "\n",
    "输入参数\n",
    "\n",
    "名称\t类型\t描述\n",
    "symbol\tstr\tsymbol=\"000300.SH\"; 参见 stock_a_pe_and_pb 一览表\n",
    "stock_a_pe_and_pb 一览表\n",
    "\n",
    "栏目\t参数\n",
    "上证A股\tsh\n",
    "深圳A股\tsz\n",
    "创业板\tcy\n",
    "科创板\tkc\n",
    "沪深300\t000300.SH\n",
    "上证50\t000016.SH\n",
    "上证红利\t000015.SH\n",
    "深证红利\t399324.SZ\n",
    "上证180\t000010.SH\n",
    "上证380\t000009.SH\n",
    "中证100\t000903.SH\n",
    "中证500\t000905.SH\n",
    "中证800\t000906.SH\n",
    "中证1000\t000852.SH\n",
    "输出参数\n",
    "\n",
    "名称\t类型\t描述\n",
    "date\tobject\t日期\n",
    "addTtmPe\tfloat64\t(加权)滚动市盈率\n",
    "middleAddTtmPe\tfloat64\t(加权)滚动市盈率中位数\n",
    "addLyrPe\tfloat64\t(加权)静态市盈率\n",
    "middleAddLyrPe\tfloat64\t(加权)静态市盈率中位数\n",
    "addPb\tfloat64\t(加权)市净率\n",
    "averageTtmPe\tfloat64\t等权滚动市盈率\n",
    "averageLyrPe\tfloat64\t等权静态市盈率\n",
    "averagePb\tfloat64\t等权市净率\n",
    "middleAveragePb\tfloat64\t等权市净率中位数\n",
    "close\tfloat64\t收盘点位"
   ]
  },
  {
   "cell_type": "code",
   "execution_count": null,
   "metadata": {},
   "outputs": [],
   "source": [
    "import akshare as ak\n",
    "symbol=\"000300.SH\"\n",
    "rs3=stock_a_pe_and_pb_df = ak.stock_a_pe_and_pb(symbol)\n",
    "print(rs3)\n",
    "rs3.to_csv(\"E:\\\\Alex\\\\程序\\\\Date\\\\test\\\\{nm}.csv\".format(nm = symbol), encoding='utf-8',index=False)"
   ]
  }
 ],
 "metadata": {
  "interpreter": {
   "hash": "30c51b833423a516be37f9477220a31119555a84ae0002e616be3b0d54bad35b"
  },
  "kernelspec": {
   "display_name": "Python 3.10.4 ('stockEn')",
   "language": "python",
   "name": "python3"
  },
  "language_info": {
   "codemirror_mode": {
    "name": "ipython",
    "version": 3
   },
   "file_extension": ".py",
   "mimetype": "text/x-python",
   "name": "python",
   "nbconvert_exporter": "python",
   "pygments_lexer": "ipython3",
   "version": "3.10.4"
  },
  "orig_nbformat": 4
 },
 "nbformat": 4,
 "nbformat_minor": 2
}
