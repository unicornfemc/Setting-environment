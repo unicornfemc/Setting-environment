{
 "cells": [
  {
   "cell_type": "markdown",
   "metadata": {},
   "source": [
    "#连接威联通Mariadb\n",
    "##Python安装 pip3 intstall mariadb\n",
    "##威联通phpMyAdmin添加新用户 全局权限 host=威联通IP user password datebase与进入威联通phpMyAdmin一致\n"
   ]
  },
  {
   "cell_type": "code",
   "execution_count": null,
   "metadata": {},
   "outputs": [],
   "source": [
    "#导入需要的库\n",
    "import mariadb\n",
    "import pandas as pd\n",
    "#建立数据库连接\n",
    "conn = mariadb.connect(host='192.168.31.167', user='root2',\n",
    "                       password=\"Beyond09\", database='test')\n",
    "#建立游标\n",
    "cur = conn.cursor()\n",
    "#输入SQL命令\n",
    "sql = \"select * from qwe\"\n",
    "#执行SQL\n",
    "cur.execute(sql)\n",
    "#遍历数据表并打印\n",
    "for r in cur:\n",
    "    print(r)\n",
    "#关闭数据库\n",
    "cur.close()\n",
    "#关闭数据库连接\n",
    "conn.close()\n"
   ]
  }
 ],
 "metadata": {
  "interpreter": {
   "hash": "b89b5cfaba6639976dc87ff2fec6d58faec662063367e2c229c520fe71072417"
  },
  "kernelspec": {
   "display_name": "Python 3.10.4 64-bit",
   "language": "python",
   "name": "python3"
  },
  "language_info": {
   "codemirror_mode": {
    "name": "ipython",
    "version": 3
   },
   "file_extension": ".py",
   "mimetype": "text/x-python",
   "name": "python",
   "nbconvert_exporter": "python",
   "pygments_lexer": "ipython3",
   "version": "3.9.12"
  },
  "orig_nbformat": 4
 },
 "nbformat": 4,
 "nbformat_minor": 2
}
